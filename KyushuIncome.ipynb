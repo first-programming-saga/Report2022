{
 "cells": [
  {
   "cell_type": "markdown",
   "metadata": {},
   "source": [
    "# 九州各県の所得推移"
   ]
  },
  {
   "cell_type": "code",
   "execution_count": null,
   "metadata": {},
   "outputs": [],
   "source": [
    "import pandas\n",
    "import matplotlib.pyplot as plt\n",
    "import japanize_matplotlib"
   ]
  },
  {
   "cell_type": "code",
   "execution_count": null,
   "metadata": {},
   "outputs": [],
   "source": [
    "def getData(filename:str) -> pandas.DataFrame:\n",
    "    \"\"\"\n",
    "    Excelファイルを読み込む\n",
    "    \"\"\"\n",
    "    # Excelファイルを読む\n",
    "    with pandas.ExcelFile(filename) as f:\n",
    "        data = pandas.read_excel(f, header=2, skiprows=[3], skipfooter=3, index_col=0)\n",
    "    years = dict()\n",
    "    #列のラベルと「◯年度」から整数にする->課題\n",
    "\n",
    "\n",
    "\n",
    "    #列名の変更\n",
    "    data.rename(columns = years, inplace=True)\n",
    "    return data"
   ]
  },
  {
   "cell_type": "code",
   "execution_count": null,
   "metadata": {},
   "outputs": [],
   "source": [
    "filename = '1_2_5.xlsx'\n",
    "data = getData(filename)\n",
    "\n",
    "plt.figure(figsize=(10,10),facecolor='white')\n",
    "for p in data.index:\n",
    "    if p != '全　国' and p != '九　州':\n",
    "        ser = data.loc[p]/data.loc['全　国']\n",
    "        ser.plot(label=p)\n",
    "plt.legend()\n",
    "plt.show()"
   ]
  }
 ],
 "metadata": {
  "kernelspec": {
   "display_name": "Python 3.9.7 ('myenv')",
   "language": "python",
   "name": "python3"
  },
  "language_info": {
   "codemirror_mode": {
    "name": "ipython",
    "version": 3
   },
   "file_extension": ".py",
   "mimetype": "text/x-python",
   "name": "python",
   "nbconvert_exporter": "python",
   "pygments_lexer": "ipython3",
   "version": "3.9.7"
  },
  "orig_nbformat": 4,
  "vscode": {
   "interpreter": {
    "hash": "5b50574aca822a4663eeb358827631e5cbe081f130521b0066dec6b864ef6f2f"
   }
  }
 },
 "nbformat": 4,
 "nbformat_minor": 2
}
